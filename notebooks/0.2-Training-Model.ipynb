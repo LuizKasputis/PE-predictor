{
 "cells": [
  {
   "cell_type": "markdown",
   "id": "95acd445",
   "metadata": {},
   "source": [
    "# Criação de Modelo - Import bibliotecas"
   ]
  },
  {
   "cell_type": "code",
   "execution_count": 2,
   "id": "4be930b0",
   "metadata": {},
   "outputs": [],
   "source": [
    "import os\n",
    "import numpy as np\n",
    "import albumentations\n",
    "import monai\n",
    "import pandas as pd\n",
    "import matplotlib.pyplot as plt\n",
    "\n",
    "from PIL import Image\n",
    "from os import listdir\n",
    "from sklearn.model_selection import GroupKFold\n",
    "from torch.utils.data import Dataset\n",
    "\n",
    "from monai.transforms import AddChannel, Compose, RandRotate90, Resize, ScaleIntensity, ToTensor, RandAffine, apply_transform"
   ]
  },
  {
   "cell_type": "code",
   "execution_count": 3,
   "id": "e06cff3d",
   "metadata": {},
   "outputs": [],
   "source": [
    "path_raw = '../data/raw'\n",
    "path_data = '../data/processed/train-jpegs'\n",
    "path_train = '../data/processed'\n",
    "\n",
    "img_size = 128"
   ]
  },
  {
   "cell_type": "markdown",
   "id": "0412e6f9",
   "metadata": {},
   "source": [
    "# Dataset Pytorch"
   ]
  },
  {
   "cell_type": "code",
   "execution_count": 4,
   "id": "6e88ded2",
   "metadata": {},
   "outputs": [],
   "source": [
    "train_transforms = Compose([ScaleIntensity(), \n",
    "                            Resize((img_size, img_size, img_size)), \n",
    "                            RandAffine( \n",
    "                                      prob=0.5,\n",
    "                                      translate_range=(5, 5, 5),\n",
    "                                      rotate_range=(np.pi * 4, np.pi * 4, np.pi * 4),\n",
    "                                      scale_range=(0.15, 0.15, 0.15),\n",
    "                                      padding_mode='border'),\n",
    "                            ToTensor()]\n",
    "                          )"
   ]
  },
  {
   "cell_type": "code",
   "execution_count": 5,
   "id": "0eb9d6ac",
   "metadata": {},
   "outputs": [],
   "source": [
    "class PEDataset(Dataset):\n",
    "   \n",
    "    def __init__(self, df, transform=None, img_size = 128):\n",
    "        \n",
    "        self.transform = transform\n",
    "        self.img_size = img_size\n",
    "        self.df = df\n",
    "        \n",
    "        tr = pd.read_csv(path_train+'/train_apply.csv')\n",
    "    \n",
    "    def __len__(self):\n",
    "        return len(self.df)\n",
    "    \n",
    "    \n",
    "    def __getitem__(self, index):\n",
    "        \n",
    "        row = self.df.iloc[index]\n",
    "        \n",
    "        path_img = path_data + '/' + row['StudyInstanceUID'] + '/' + row['SeriesInstanceUID']\n",
    "        imgs_array = sorted([ path_img + '/' + img_path for img_path in listdir(path_img) ])\n",
    "        \n",
    "        imgs_input = np.stack([ np.asarray(Image.open(img)) for img in img_array ]).transpose(3,0,1,2)\n",
    "        \n",
    "        if self.transform is not None:\n",
    "            imgs_input = apply_transform(self.transform, imgs_input)\n",
    "        \n",
    "        return imgs_input\n",
    "        "
   ]
  },
  {
   "cell_type": "code",
   "execution_count": 48,
   "id": "33234472",
   "metadata": {},
   "outputs": [],
   "source": [
    "dataset = PEDataset(df, transform= train_transforms)"
   ]
  },
  {
   "cell_type": "code",
   "execution_count": 6,
   "id": "c2481b77",
   "metadata": {},
   "outputs": [],
   "source": [
    "def binary_cross_entropy(y_pred, y_true):\n",
    "    total_bce_loss = np.sum(-y_true * np.log(y_pred) - (1 - y_true) * np.log(1 - y_pred))"
   ]
  },
  {
   "cell_type": "code",
   "execution_count": null,
   "id": "292003f8",
   "metadata": {},
   "outputs": [],
   "source": []
  },
  {
   "cell_type": "code",
   "execution_count": null,
   "id": "7e12faae",
   "metadata": {},
   "outputs": [],
   "source": []
  }
 ],
 "metadata": {
  "kernelspec": {
   "display_name": "Python 3",
   "language": "python",
   "name": "python3"
  },
  "language_info": {
   "codemirror_mode": {
    "name": "ipython",
    "version": 3
   },
   "file_extension": ".py",
   "mimetype": "text/x-python",
   "name": "python",
   "nbconvert_exporter": "python",
   "pygments_lexer": "ipython3",
   "version": "3.8.5"
  }
 },
 "nbformat": 4,
 "nbformat_minor": 5
}
